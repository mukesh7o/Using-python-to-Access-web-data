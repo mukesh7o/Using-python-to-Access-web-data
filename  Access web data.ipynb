{
 "cells": [
  {
   "cell_type": "markdown",
   "metadata": {},
   "source": [
    "# Extracting Data With Regular Expressions"
   ]
  },
  {
   "cell_type": "code",
   "execution_count": 13,
   "metadata": {},
   "outputs": [
    {
     "name": "stdout",
     "output_type": "stream",
     "text": [
      "there are  104 values with a sum of  568683\n"
     ]
    }
   ],
   "source": [
    "import re\n",
    "fname=open(\"regex.txt\")\n",
    "summ=0\n",
    "count=0\n",
    "for line in fname:\n",
    "    f=re.findall('[0-9]+',line)\n",
    "    for num in f:\n",
    "        count+=1\n",
    "        summ=summ+(int(num))\n",
    "print (\"there are \",count,\"values with a sum of \",summ)"
   ]
  },
  {
   "cell_type": "markdown",
   "metadata": {},
   "source": [
    "# Scraping HTML Data with BeautifulSoup"
   ]
  },
  {
   "cell_type": "code",
   "execution_count": 15,
   "metadata": {},
   "outputs": [
    {
     "name": "stdout",
     "output_type": "stream",
     "text": [
      "count is  50\n",
      "sum is  2598\n"
     ]
    }
   ],
   "source": [
    "import urllib.request,urllib.parse,urllib.error\n",
    "from bs4 import BeautifulSoup\n",
    "import ssl\n",
    "\n",
    "ctx=ssl.create_default_context()\n",
    "ctx.check_hostname=False\n",
    "ctx.verify_mode=ssl.CERT_NONE\n",
    "\n",
    "link= \"http://py4e-data.dr-chuck.net/comments_906470.html\"\n",
    "html=urllib.request.urlopen(link,context=ctx).read()\n",
    "soup=BeautifulSoup(html,'html.parser')\n",
    "\n",
    "tags=soup('span')\n",
    "s=0\n",
    "c=0\n",
    "for tag in tags:\n",
    "    c+=1\n",
    "    s+=int(tag.contents[0])\n",
    "print (\"count is \", c)\n",
    "print (\"sum is \",s)\n"
   ]
  },
  {
   "cell_type": "markdown",
   "metadata": {},
   "source": [
    "# Following Links in HTML Using BeautifulSoup\n",
    "** Find the link at position 18 (the first name is 1). Follow that link. Repeat this process 7 times. The answer is the last name that you retrieve.\n",
    "Hint: The first character of the name of the last page that you will load is: J **"
   ]
  },
  {
   "cell_type": "code",
   "execution_count": 17,
   "metadata": {},
   "outputs": [
    {
     "name": "stdout",
     "output_type": "stream",
     "text": [
      "Enter URL:http://py4e-data.dr-chuck.net/known_by_Stuart.html\n",
      "Enter count:7\n",
      "Enter position:18\n",
      "Retriving:  http://py4e-data.dr-chuck.net/known_by_Stuart.html\n",
      "Jensyn\n"
     ]
    }
   ],
   "source": [
    "import urllib.request,urllib.parse,urllib.error\n",
    "from bs4 import BeautifulSoup\n",
    "import ssl\n",
    "import urllib\n",
    "\n",
    "ctx=ssl.create_default_context()\n",
    "ctx.check_hostname=False\n",
    "ctx.verify_mode=ssl.CERT_NONE\n",
    "\n",
    "link=input(\"Enter URL:\")\n",
    "count=int(input(\"Enter count:\"))\n",
    "pos=int(input(\"Enter position:\"))\n",
    "\n",
    "print (\"Retriving: \",link)\n",
    "for i in range(0,count):\n",
    "    html=urllib.request.urlopen(link).read()\n",
    "    soup=BeautifulSoup(html)\n",
    "    tags=soup('a')\n",
    "    \n",
    "    link=tags[pos-1].get('href')\n",
    "\n",
    "result=tags[pos-1].contents[0]\n",
    "print (result)\n",
    "    "
   ]
  },
  {
   "cell_type": "markdown",
   "metadata": {},
   "source": [
    "# Extracting Data from XML\n"
   ]
  },
  {
   "cell_type": "code",
   "execution_count": 18,
   "metadata": {},
   "outputs": [
    {
     "name": "stdout",
     "output_type": "stream",
     "text": [
      "Enter Urlhttp://py4e-data.dr-chuck.net/comments_906472.xml\n",
      "2570\n"
     ]
    }
   ],
   "source": [
    "import urllib\n",
    "import json\n",
    "import xml.etree.ElementTree as ET\n",
    "url=input(\"Enter Url\")\n",
    "u=urllib.request.urlopen(url)\n",
    "data=u.read()\n",
    "xml_data=ET.fromstring(data)\n",
    "search_str=\"comments/comment\"\n",
    "count_tags=xml_data.findall(search_str)\n",
    "\n",
    "total=0\n",
    "for tags in count_tags:\n",
    "    c=tags.find('count')\n",
    "    total+=int(c.text)\n",
    "    \n",
    "print(total)"
   ]
  },
  {
   "cell_type": "markdown",
   "metadata": {},
   "source": [
    "# Extracting Data from JSON"
   ]
  },
  {
   "cell_type": "code",
   "execution_count": 19,
   "metadata": {},
   "outputs": [
    {
     "name": "stdout",
     "output_type": "stream",
     "text": [
      "Enter Urlhttp://py4e-data.dr-chuck.net/comments_906473.json\n",
      "2496\n"
     ]
    }
   ],
   "source": [
    "import urllib\n",
    "import json\n",
    "url=input(\"Enter Url\")\n",
    "u=urllib.request.urlopen(url)\n",
    "dat=u.read()\n",
    "data=json.loads(dat)\n",
    "\n",
    "total=0\n",
    "for tags in data['comments']:\n",
    "    total+=tags[\"count\"]\n",
    "print(total)"
   ]
  },
  {
   "cell_type": "code",
   "execution_count": null,
   "metadata": {},
   "outputs": [],
   "source": []
  }
 ],
 "metadata": {
  "kernelspec": {
   "display_name": "Python 3",
   "language": "python",
   "name": "python3"
  },
  "language_info": {
   "codemirror_mode": {
    "name": "ipython",
    "version": 3
   },
   "file_extension": ".py",
   "mimetype": "text/x-python",
   "name": "python",
   "nbconvert_exporter": "python",
   "pygments_lexer": "ipython3",
   "version": "3.8.3"
  }
 },
 "nbformat": 4,
 "nbformat_minor": 4
}
